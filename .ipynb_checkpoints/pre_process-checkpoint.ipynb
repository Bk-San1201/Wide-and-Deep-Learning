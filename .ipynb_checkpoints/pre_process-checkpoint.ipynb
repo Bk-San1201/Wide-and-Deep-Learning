{
 "cells": [
  {
   "cell_type": "code",
   "execution_count": null,
   "metadata": {},
   "outputs": [],
   "source": [
    "import pandas as pd"
   ]
  },
  {
   "cell_type": "code",
   "execution_count": null,
   "metadata": {},
   "outputs": [],
   "source": [
    "# Load data\n",
    "print('Loading Data .....')\n",
    "data_path = './ml-1m'\n",
    "# Ratings\n",
    "ratings = pd.read_csv(data_path + '/ratings.dat', sep='::', header=None, engine='python')\n",
    "ratings.columns = ['userId', 'movieId', 'rating', 'timestamp']\n",
    "\n",
    "# Movies\n",
    "movies = pd.read_csv(data_path + '/movies.dat', sep='::', header=None, engine='python')\n",
    "movies.columns = ['movieId', 'title', 'genres']\n",
    "\n",
    "# Users\n",
    "users = pd.read_csv(data_path + '/users.dat', sep='::', header=None, engine='python')\n",
    "users.columns = ['userId', 'gender', 'age', 'occupation', 'zipCode']"
   ]
  },
  {
   "cell_type": "code",
   "execution_count": null,
   "metadata": {},
   "outputs": [],
   "source": [
    "n_users = users.userId.unique().shape[0]\n",
    "n_movies = movies.movieId.unique().shape[0]\n",
    "\n",
    "print('Number of Users: %d' % n_users)\n",
    "print('Number of Movies: %d' % n_movies)\n",
    "print('Sparsity: {:4.3f}%'.format(float(ratings.shape[0]) / float(n_users * n_movies) * 100))"
   ]
  },
  {
   "cell_type": "code",
   "execution_count": null,
   "metadata": {},
   "outputs": [],
   "source": [
    "set_genres = set()\n",
    "for i in movies.genres:\n",
    "    set_genres.update(i.split(\"|\"))\n",
    "print(set_genres)"
   ]
  },
  {
   "cell_type": "code",
   "execution_count": null,
   "metadata": {},
   "outputs": [],
   "source": [
    "# pre processing\n",
    "# drop the timestamp\n",
    "ratings = ratings.drop('timestamp', axis=1)\n",
    "\n",
    "for i in set_genres:\n",
    "    movies[i] = 0"
   ]
  },
  {
   "cell_type": "code",
   "execution_count": null,
   "metadata": {},
   "outputs": [],
   "source": [
    "for i in range(n_movies):\n",
    "    lst = movies.iloc[i, movies.columns.get_loc('genres')].split('|')\n",
    "    for j in lst:\n",
    "        if j in set_genres:\n",
    "            movies.iloc[i, movies.columns.get_loc(j)] = 1\n",
    "# print(movies)"
   ]
  },
  {
   "cell_type": "code",
   "execution_count": null,
   "metadata": {},
   "outputs": [],
   "source": [
    "year = []\n",
    "for i in movies.title:\n",
    "    year.append(i.split('(')[-1][:4])\n",
    "movies['year'] = year\n",
    "movies = movies.drop('genres', axis=1)"
   ]
  },
  {
   "cell_type": "code",
   "execution_count": null,
   "metadata": {},
   "outputs": [],
   "source": [
    "rating_movie = pd.merge(ratings,movies,how='left',on=\"movieId\")"
   ]
  },
  {
   "cell_type": "code",
   "execution_count": null,
   "metadata": {},
   "outputs": [],
   "source": [
    "#replace gender values with 0,1\n",
    "users['gender'].replace({'F':0,'M':1},inplace=True)\n",
    "#one got encode the zipcode column \n",
    "#users = pd.get_dummies(users,prefix=['zipcode'],columns=[\"zipCode\"],drop_first=True)\n",
    "users.drop(['zipCode'],axis=1,inplace=True)"
   ]
  },
  {
   "cell_type": "code",
   "execution_count": null,
   "metadata": {},
   "outputs": [],
   "source": [
    "users['age'].unique()\n",
    "#replace age with an ordered list for the age\n",
    "users['age'].replace({1:0,18:1, 25:2, 35:3, 45:4, 50:5, 56:6 },inplace=True)"
   ]
  },
  {
   "cell_type": "code",
   "execution_count": null,
   "metadata": {},
   "outputs": [],
   "source": [
    "final_df = pd.merge(rating_movie,users,how='left',on='userId')\n",
    "final_df"
   ]
  },
  {
   "cell_type": "code",
   "execution_count": null,
   "metadata": {},
   "outputs": [],
   "source": [
    "final_df.to_csv('./cleaned-data/ml-1m.final.dat', index=False)"
   ]
  },
  {
   "cell_type": "code",
   "execution_count": null,
   "metadata": {},
   "outputs": [],
   "source": []
  }
 ],
 "metadata": {
  "kernelspec": {
   "display_name": "Python 3.7.3 64-bit",
   "language": "python",
   "name": "python37364bit9ea8c834de0d42dca5d365c86c50fd88"
  },
  "language_info": {
   "codemirror_mode": {
    "name": "ipython",
    "version": 3
   },
   "file_extension": ".py",
   "mimetype": "text/x-python",
   "name": "python",
   "nbconvert_exporter": "python",
   "pygments_lexer": "ipython3",
   "version": "3.7.2"
  }
 },
 "nbformat": 4,
 "nbformat_minor": 4
}
